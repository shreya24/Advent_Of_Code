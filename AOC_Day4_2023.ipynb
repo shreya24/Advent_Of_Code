{
  "nbformat": 4,
  "nbformat_minor": 0,
  "metadata": {
    "colab": {
      "provenance": [],
      "authorship_tag": "ABX9TyOk2Ztl0oBJ4MDawEGrjhc/",
      "include_colab_link": true
    },
    "kernelspec": {
      "name": "python3",
      "display_name": "Python 3"
    },
    "language_info": {
      "name": "python"
    }
  },
  "cells": [
    {
      "cell_type": "markdown",
      "metadata": {
        "id": "view-in-github",
        "colab_type": "text"
      },
      "source": [
        "<a href=\"https://colab.research.google.com/github/shreya24/Advent_Of_Code/blob/main/AOC_Day4_2023.ipynb\" target=\"_parent\"><img src=\"https://colab.research.google.com/assets/colab-badge.svg\" alt=\"Open In Colab\"/></a>"
      ]
    },
    {
      "cell_type": "code",
      "execution_count": 3,
      "metadata": {
        "id": "JxZ8ICo5n6Ff"
      },
      "outputs": [],
      "source": [
        "# day - 1\n",
        "dayFour_data = open('/aoc/aoc_day4.txt')"
      ]
    },
    {
      "cell_type": "code",
      "source": [
        "# day - 1\n",
        "import math as m, re\n",
        "All_Games_Dict = {}\n",
        "All_Games_List = []\n",
        "for each_card in dayFour_data:\n",
        "  All_Games_Dict[each_card.split(':')[0].replace('  ',' ').replace('  ', ' ').split(' ')[1]] = [0.5]\n",
        "\n",
        "  winning_numbers = []\n",
        "  numbers_on_hand = []\n",
        "  nos_on_hand_which_win = []\n",
        "  for n in re.finditer(r'\\d+', each_card.split(':')[1].split('|')[0]):\n",
        "    winning_numbers.append(n.group())\n",
        "  for n in re.finditer(r'\\d+', each_card.split(':')[1].split('|')[1]):\n",
        "    numbers_on_hand.append(n.group())\n",
        "\n",
        "  for each_no_on_hand in numbers_on_hand:\n",
        "    if each_no_on_hand in winning_numbers:\n",
        "      nos_on_hand_which_win.append(each_no_on_hand)\n",
        "\n",
        "  # print(\"game no:\", each_card.split(':')[0].replace('  ',' ').replace('  ', ' ').split(' ')[1])\n",
        "  # print(All_Games_Dict)\n",
        "  for each_no_on_hand_that_wins in nos_on_hand_which_win:\n",
        "    All_Games_Dict[each_card.split(':')[0].replace('  ',' ').replace('  ', ' ').split(' ')[1]] = [(int(x*2)) for x in  All_Games_Dict[each_card.split(':')[0].replace('  ',' ').replace('  ', ' ').split(' ')[1]]]\n",
        "\n",
        "for a in All_Games_Dict:\n",
        "  All_Games_List.append([int(y) for y in All_Games_Dict[a]])\n",
        "\n",
        "\n",
        "Final_Sum = 0\n",
        "for t in All_Games_List:\n",
        "  Final_Sum = Final_Sum + sum(t)\n",
        "print(Final_Sum)"
      ],
      "metadata": {
        "colab": {
          "base_uri": "https://localhost:8080/"
        },
        "id": "OArOGtDaoIDv",
        "outputId": "f8f55c96-00d2-40bd-e3a3-f1861d722b0f"
      },
      "execution_count": 4,
      "outputs": [
        {
          "output_type": "stream",
          "name": "stdout",
          "text": [
            "13\n"
          ]
        }
      ]
    },
    {
      "cell_type": "code",
      "source": [],
      "metadata": {
        "id": "4BGci9pw9cdf"
      },
      "execution_count": null,
      "outputs": []
    },
    {
      "cell_type": "code",
      "source": [
        "# day - 2\n",
        "dayFour_data = open('/aoc/aoc_day4.txt')"
      ],
      "metadata": {
        "id": "SLzDf9XxHGqc"
      },
      "execution_count": 33,
      "outputs": []
    },
    {
      "cell_type": "code",
      "source": [],
      "metadata": {
        "id": "WcEnJYqE7PtL"
      },
      "execution_count": 42,
      "outputs": []
    },
    {
      "cell_type": "code",
      "source": [
        "#day - 2\n",
        "from collections import defaultdict\n",
        "from pprint import pprint\n",
        "\n",
        "N = defaultdict(int)\n",
        "for r, each_card in enumerate(dayFour_data):\n",
        "  # print(r, each_card)\n",
        "  winning_numbers = []\n",
        "  numbers_on_hand = []\n",
        "  nos_on_hand_which_win = []\n",
        "  for n in re.finditer(r'\\d+', each_card.split(':')[1].split('|')[0]):\n",
        "    winning_numbers.append(n.group())\n",
        "  for n in re.finditer(r'\\d+', each_card.split(':')[1].split('|')[1]):\n",
        "    numbers_on_hand.append(n.group())\n",
        "  for each_no_on_hand in numbers_on_hand:\n",
        "    if each_no_on_hand in winning_numbers:\n",
        "      nos_on_hand_which_win.append(each_no_on_hand)\n",
        "  winning_no = len(nos_on_hand_which_win)\n",
        "  N[r] += 1\n",
        "  for val in range(winning_no):\n",
        "    N[r+val+1] += N[r]\n",
        "\n",
        "# print(dict(N))\n",
        "# print(list(dict(N).values()))\n",
        "print(sum([int(val) for val in N.values()]))\n"
      ],
      "metadata": {
        "id": "hwg2-IwqwO5-",
        "colab": {
          "base_uri": "https://localhost:8080/"
        },
        "outputId": "f00734ec-724f-4289-84d5-cdc0772385bd"
      },
      "execution_count": 56,
      "outputs": [
        {
          "output_type": "stream",
          "name": "stdout",
          "text": [
            "23806951\n"
          ]
        }
      ]
    }
  ]
}