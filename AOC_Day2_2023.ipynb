{
  "nbformat": 4,
  "nbformat_minor": 0,
  "metadata": {
    "colab": {
      "provenance": [],
      "authorship_tag": "ABX9TyPNnT/8JQkA5/jN4nz6XkhX",
      "include_colab_link": true
    },
    "kernelspec": {
      "name": "python3",
      "display_name": "Python 3"
    },
    "language_info": {
      "name": "python"
    }
  },
  "cells": [
    {
      "cell_type": "markdown",
      "metadata": {
        "id": "view-in-github",
        "colab_type": "text"
      },
      "source": [
        "<a href=\"https://colab.research.google.com/github/shreya24/Advent_Of_Code/blob/main/AOC_Day2_2023.ipynb\" target=\"_parent\"><img src=\"https://colab.research.google.com/assets/colab-badge.svg\" alt=\"Open In Colab\"/></a>"
      ]
    },
    {
      "cell_type": "code",
      "execution_count": null,
      "metadata": {
        "id": "b-XcnvrWeApL"
      },
      "outputs": [],
      "source": [
        "dayTwo_data = open('/aoc/aoc_day2.txt')"
      ]
    },
    {
      "cell_type": "code",
      "source": [
        "#part - 1\n",
        "AllGames_dict = {}\n",
        "Final_AllGames_dict = {}\n",
        "# the bag contains only 12 red cubes, 13 green cubes, and 14 blue cubes\n",
        "for game_number in dayTwo_data:\n",
        "  AllGames_dict[game_number.split(\":\")[0].split(\" \")[1]] = []\n",
        "  # print(game_number.split(\":\")[0].split(\" \")[1])\n",
        "  # print(game_number.split(\":\")[1].split(\";\"))\n",
        "  for each_cube_set in game_number.split(\":\")[1].split(\";\"):\n",
        "    each_cube_set_dict = {}\n",
        "    # print(each_cube_set)\n",
        "    # print(each_cube_set.split(\",\"))\n",
        "    for each_cube in each_cube_set.split(\",\"):\n",
        "      # print(each_cube.strip('\\n ').split(' '))\n",
        "      each_cube_set_dict[each_cube.strip('\\n ').split(' ')[1]] = each_cube.strip('\\n ').split(' ')[0]\n",
        "    # print(each_cube_set_dict)\n",
        "    if each_cube_set_dict.get(\"red\") is None:\n",
        "      each_cube_set_dict[\"red\"] = 0\n",
        "    if each_cube_set_dict.get(\"green\") is None:\n",
        "      each_cube_set_dict[\"green\"] = 0\n",
        "    if each_cube_set_dict.get(\"blue\") is None:\n",
        "      each_cube_set_dict[\"blue\"] = 0\n",
        "\n",
        "    if int(each_cube_set_dict.get(\"red\")) <= 12 and \\\n",
        "       int(each_cube_set_dict.get(\"green\")) <= 13 and \\\n",
        "       int(each_cube_set_dict.get(\"blue\")) <= 14:\n",
        "      AllGames_dict[game_number.split(\":\")[0].split(\" \")[1]].append(\"possible\")\n",
        "    else:\n",
        "      AllGames_dict[game_number.split(\":\")[0].split(\" \")[1]].append(\"impossible\")\n",
        "  if \"impossible\" in AllGames_dict[game_number.split(\":\")[0].split(\" \")[1]]:\n",
        "    Final_AllGames_dict[game_number.split(\":\")[0].split(\" \")[1]] = \"Impossible\"\n",
        "  else:\n",
        "    Final_AllGames_dict[game_number.split(\":\")[0].split(\" \")[1]] = \"Possible\"\n",
        "\n",
        "print(Final_AllGames_dict)\n"
      ],
      "metadata": {
        "id": "oO_5OlMBjrN5"
      },
      "execution_count": null,
      "outputs": []
    },
    {
      "cell_type": "code",
      "source": [
        "#part - 1\n",
        "Sum_IDs = 0\n",
        "for Game_Number in Final_AllGames_dict:\n",
        "  if Final_AllGames_dict[Game_Number] == \"Possible\":\n",
        "    Sum_IDs = Sum_IDs + int(Game_Number)\n",
        "print(Sum_IDs)"
      ],
      "metadata": {
        "colab": {
          "base_uri": "https://localhost:8080/"
        },
        "id": "DoMHMmsKJtED",
        "outputId": "cbfc30f9-689d-4236-fd87-59d2843e2fb8"
      },
      "execution_count": null,
      "outputs": [
        {
          "output_type": "stream",
          "name": "stdout",
          "text": [
            "2204\n"
          ]
        }
      ]
    },
    {
      "cell_type": "code",
      "source": [
        "dayTwo_data = open('/aoc/aoc_day2.txt')"
      ],
      "metadata": {
        "id": "UEykW3ktHkvq"
      },
      "execution_count": null,
      "outputs": []
    },
    {
      "cell_type": "code",
      "source": [
        "#part - 2\n",
        "NumberCubesEachGame = {}\n",
        "Final_AllGames_dict = {}\n",
        "for game_number in dayTwo_data:\n",
        "  Final_AllGames_dict[game_number.split(\":\")[0].split(\" \")[1]] = {}\n",
        "  NumberCubesEachGame[\"red\"] = []\n",
        "  NumberCubesEachGame[\"green\"] = []\n",
        "  NumberCubesEachGame[\"blue\"] = []\n",
        "  for each_cube_set in game_number.split(\":\")[1].split(\";\"):\n",
        "    each_cube_set_dict = {}\n",
        "    for each_cube in each_cube_set.split(\",\"):\n",
        "      each_cube_set_dict[each_cube.strip('\\n ').split(' ')[1]] = each_cube.strip('\\n ').split(' ')[0]\n",
        "\n",
        "    if each_cube_set_dict.get(\"red\") is None:\n",
        "      each_cube_set_dict[\"red\"] = 0\n",
        "    if each_cube_set_dict.get(\"green\") is None:\n",
        "      each_cube_set_dict[\"green\"] = 0\n",
        "    if each_cube_set_dict.get(\"blue\") is None:\n",
        "      each_cube_set_dict[\"blue\"] = 0\n",
        "    # print(each_cube_set_dict)\n",
        "    NumberCubesEachGame[\"red\"].append(each_cube_set_dict[\"red\"])\n",
        "    NumberCubesEachGame[\"green\"].append(each_cube_set_dict[\"green\"])\n",
        "    NumberCubesEachGame[\"blue\"].append(each_cube_set_dict[\"blue\"])\n",
        "\n",
        "  # print(NumberCubesEachGame)\n",
        "  # print(max([int(Each_Cube_Of_A_Color) for Each_Cube_Of_A_Color in NumberCubesEachGame[\"red\"]]))\n",
        "  Final_AllGames_dict[game_number.split(\":\")[0].split(\" \")[1]].\\\n",
        "  update({\"red\":max([int(Each_Cube_Of_A_Color) for Each_Cube_Of_A_Color in NumberCubesEachGame[\"red\"]])})\n",
        "  Final_AllGames_dict[game_number.split(\":\")[0].split(\" \")[1]].\\\n",
        "  update({\"green\":max([int(Each_Cube_Of_A_Color) for Each_Cube_Of_A_Color in NumberCubesEachGame[\"green\"]])})\n",
        "  Final_AllGames_dict[game_number.split(\":\")[0].split(\" \")[1]].\\\n",
        "  update({\"blue\":max([int(Each_Cube_Of_A_Color) for Each_Cube_Of_A_Color in NumberCubesEachGame[\"blue\"]])})\n",
        "\n",
        "print(Final_AllGames_dict)"
      ],
      "metadata": {
        "colab": {
          "base_uri": "https://localhost:8080/"
        },
        "id": "MaS6CdOsBDuX",
        "outputId": "c4024cab-aaa4-424c-b3b3-5d2676ece871"
      },
      "execution_count": null,
      "outputs": [
        {
          "output_type": "stream",
          "name": "stdout",
          "text": [
            "{'1': {'red': 15, 'green': 4, 'blue': 14}, '2': {'red': 17, 'green': 8, 'blue': 16}, '3': {'red': 12, 'green': 14, 'blue': 6}, '4': {'red': 1, 'green': 3, 'blue': 1}, '5': {'red': 6, 'green': 3, 'blue': 1}, '6': {'red': 10, 'green': 12, 'blue': 4}, '7': {'red': 18, 'green': 3, 'blue': 2}, '8': {'red': 4, 'green': 16, 'blue': 3}, '9': {'red': 8, 'green': 5, 'blue': 19}, '10': {'red': 7, 'green': 18, 'blue': 1}, '11': {'red': 9, 'green': 13, 'blue': 13}, '12': {'red': 7, 'green': 9, 'blue': 2}, '13': {'red': 1, 'green': 2, 'blue': 8}, '14': {'red': 8, 'green': 10, 'blue': 1}, '15': {'red': 14, 'green': 8, 'blue': 2}, '16': {'red': 6, 'green': 3, 'blue': 12}, '17': {'red': 6, 'green': 12, 'blue': 18}, '18': {'red': 11, 'green': 18, 'blue': 10}, '19': {'red': 7, 'green': 2, 'blue': 18}, '20': {'red': 2, 'green': 2, 'blue': 13}, '21': {'red': 3, 'green': 4, 'blue': 9}, '22': {'red': 15, 'green': 13, 'blue': 10}, '23': {'red': 10, 'green': 3, 'blue': 6}, '24': {'red': 4, 'green': 12, 'blue': 1}, '25': {'red': 5, 'green': 11, 'blue': 3}, '26': {'red': 3, 'green': 9, 'blue': 18}, '27': {'red': 13, 'green': 4, 'blue': 9}, '28': {'red': 6, 'green': 13, 'blue': 1}, '29': {'red': 6, 'green': 11, 'blue': 19}, '30': {'red': 12, 'green': 5, 'blue': 12}, '31': {'red': 6, 'green': 20, 'blue': 18}, '32': {'red': 2, 'green': 5, 'blue': 1}, '33': {'red': 4, 'green': 5, 'blue': 6}, '34': {'red': 12, 'green': 12, 'blue': 2}, '35': {'red': 5, 'green': 12, 'blue': 14}, '36': {'red': 14, 'green': 10, 'blue': 13}, '37': {'red': 1, 'green': 14, 'blue': 1}, '38': {'red': 17, 'green': 12, 'blue': 11}, '39': {'red': 11, 'green': 18, 'blue': 10}, '40': {'red': 9, 'green': 3, 'blue': 4}, '41': {'red': 4, 'green': 19, 'blue': 8}, '42': {'red': 12, 'green': 8, 'blue': 18}, '43': {'red': 5, 'green': 3, 'blue': 8}, '44': {'red': 13, 'green': 10, 'blue': 16}, '45': {'red': 12, 'green': 16, 'blue': 19}, '46': {'red': 11, 'green': 10, 'blue': 6}, '47': {'red': 16, 'green': 6, 'blue': 5}, '48': {'red': 11, 'green': 6, 'blue': 2}, '49': {'red': 2, 'green': 7, 'blue': 20}, '50': {'red': 10, 'green': 12, 'blue': 1}, '51': {'red': 1, 'green': 3, 'blue': 4}, '52': {'red': 13, 'green': 1, 'blue': 8}, '53': {'red': 13, 'green': 6, 'blue': 4}, '54': {'red': 16, 'green': 14, 'blue': 13}, '55': {'red': 8, 'green': 9, 'blue': 4}, '56': {'red': 19, 'green': 6, 'blue': 16}, '57': {'red': 3, 'green': 16, 'blue': 8}, '58': {'red': 12, 'green': 13, 'blue': 7}, '59': {'red': 4, 'green': 6, 'blue': 11}, '60': {'red': 15, 'green': 6, 'blue': 16}, '61': {'red': 15, 'green': 2, 'blue': 14}, '62': {'red': 1, 'green': 16, 'blue': 13}, '63': {'red': 15, 'green': 10, 'blue': 10}, '64': {'red': 10, 'green': 6, 'blue': 2}, '65': {'red': 12, 'green': 14, 'blue': 19}, '66': {'red': 18, 'green': 1, 'blue': 7}, '67': {'red': 6, 'green': 8, 'blue': 4}, '68': {'red': 2, 'green': 3, 'blue': 19}, '69': {'red': 17, 'green': 7, 'blue': 3}, '70': {'red': 7, 'green': 2, 'blue': 11}, '71': {'red': 9, 'green': 7, 'blue': 10}, '72': {'red': 9, 'green': 2, 'blue': 12}, '73': {'red': 9, 'green': 13, 'blue': 12}, '74': {'red': 16, 'green': 12, 'blue': 5}, '75': {'red': 20, 'green': 6, 'blue': 2}, '76': {'red': 9, 'green': 13, 'blue': 3}, '77': {'red': 6, 'green': 15, 'blue': 5}, '78': {'red': 7, 'green': 5, 'blue': 5}, '79': {'red': 13, 'green': 12, 'blue': 14}, '80': {'red': 11, 'green': 5, 'blue': 9}, '81': {'red': 8, 'green': 18, 'blue': 13}, '82': {'red': 4, 'green': 14, 'blue': 9}, '83': {'red': 16, 'green': 8, 'blue': 1}, '84': {'red': 5, 'green': 11, 'blue': 8}, '85': {'red': 10, 'green': 1, 'blue': 6}, '86': {'red': 9, 'green': 5, 'blue': 10}, '87': {'red': 3, 'green': 3, 'blue': 3}, '88': {'red': 5, 'green': 14, 'blue': 19}, '89': {'red': 15, 'green': 3, 'blue': 3}, '90': {'red': 4, 'green': 2, 'blue': 3}, '91': {'red': 8, 'green': 11, 'blue': 19}, '92': {'red': 11, 'green': 4, 'blue': 12}, '93': {'red': 13, 'green': 1, 'blue': 3}, '94': {'red': 1, 'green': 20, 'blue': 13}, '95': {'red': 3, 'green': 11, 'blue': 6}, '96': {'red': 8, 'green': 13, 'blue': 17}, '97': {'red': 4, 'green': 19, 'blue': 5}, '98': {'red': 10, 'green': 10, 'blue': 4}, '99': {'red': 17, 'green': 13, 'blue': 10}, '100': {'red': 15, 'green': 8, 'blue': 1}}\n"
          ]
        }
      ]
    },
    {
      "cell_type": "code",
      "source": [
        "?part - 2\n",
        "Power_Of_SetOFCubes = {}\n",
        "for each_game in Final_AllGames_dict:\n",
        "  Power_Of_SetOFCubes[each_game] = Final_AllGames_dict[each_game][\"red\"] * Final_AllGames_dict[each_game][\"green\"] * Final_AllGames_dict[each_game][\"blue\"]\n",
        "# print(Power_Of_SetOFCubes)\n",
        "print(sum([int(Power_Of_SetOFCubes[each_game]) for each_game in Power_Of_SetOFCubes]))\n"
      ],
      "metadata": {
        "colab": {
          "base_uri": "https://localhost:8080/"
        },
        "id": "a-J9HtxsLrxK",
        "outputId": "67ac341a-8d48-4aeb-beb5-f9dbcb9b4859"
      },
      "execution_count": null,
      "outputs": [
        {
          "output_type": "stream",
          "name": "stdout",
          "text": [
            "71036\n"
          ]
        }
      ]
    }
  ]
}