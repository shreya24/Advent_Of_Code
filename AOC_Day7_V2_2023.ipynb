{
  "nbformat": 4,
  "nbformat_minor": 0,
  "metadata": {
    "colab": {
      "provenance": [],
      "authorship_tag": "ABX9TyNxB75pBhbOwusXFeIqSjEc",
      "include_colab_link": true
    },
    "kernelspec": {
      "name": "python3",
      "display_name": "Python 3"
    },
    "language_info": {
      "name": "python"
    }
  },
  "cells": [
    {
      "cell_type": "markdown",
      "metadata": {
        "id": "view-in-github",
        "colab_type": "text"
      },
      "source": [
        "<a href=\"https://colab.research.google.com/github/shreya24/Advent_Of_Code/blob/main/AOC_Day7_V2_2023.ipynb\" target=\"_parent\"><img src=\"https://colab.research.google.com/assets/colab-badge.svg\" alt=\"Open In Colab\"/></a>"
      ]
    },
    {
      "cell_type": "code",
      "execution_count": 1,
      "metadata": {
        "colab": {
          "base_uri": "https://localhost:8080/"
        },
        "id": "9uBUtSLZsaGB",
        "outputId": "79a8691d-6dff-4d40-8a77-a6d52537e108"
      },
      "outputs": [
        {
          "output_type": "stream",
          "name": "stdout",
          "text": [
            "part 1: 241344943\n",
            "part 2: 243101568\n"
          ]
        }
      ],
      "source": [
        "import re\n",
        "from functools import cmp_to_key\n",
        "from collections import Counter\n",
        "\n",
        "with open('/aoc/aoc_day7.txt', 'r') as f:\n",
        "  puzzle_input = f.read()\n",
        "\n",
        "def part1(puzzle_input):\n",
        "  def get_type(hand):\n",
        "    counts = sorted(Counter(hand).values(), reverse = True)\n",
        "    if counts[0] == 5:\n",
        "      return 6\n",
        "    if counts[0] == 4:\n",
        "      return 5\n",
        "    if counts[0] == 3 and counts[1] == 2:\n",
        "      return 4\n",
        "    if counts[0] == 3:\n",
        "      return 3\n",
        "    if counts[0] == 2 and counts[1] == 2:\n",
        "      return 2\n",
        "    if counts[0] == 2:\n",
        "      return 1\n",
        "    return 0\n",
        "\n",
        "\n",
        "  def compare(a,b):\n",
        "    type_a = get_type(a[0])\n",
        "    type_b = get_type(b[0])\n",
        "    if type_a > type_b: return 1\n",
        "    elif type_a < type_b: return -1\n",
        "    for card_a, card_b in zip(a[0], b[0]):\n",
        "      if card_a == card_b: continue\n",
        "      card_wins = (cards.index(card_a) > cards.index(card_b))\n",
        "      return 1 if card_wins else -1\n",
        "\n",
        "  cards = \"23456789TJQKA\"\n",
        "  regex = r'(\\w{5}) (\\d+)'\n",
        "  hands = re.findall(regex, puzzle_input)\n",
        "  hands.sort(key = cmp_to_key(compare))\n",
        "  total = 0\n",
        "  for rank, (_, bid) in enumerate(hands, start = 1):\n",
        "    points = rank * int(bid)\n",
        "    total += points\n",
        "  return total\n",
        "\n",
        "\n",
        "def part2(puzzle_input):\n",
        "  def get_type(hand):\n",
        "    jokers = hand.count('J')\n",
        "    hand = [c for c in hand if c != 'J']\n",
        "    counts = sorted(Counter(hand).values(), reverse = True)\n",
        "    if not counts: counts = [0]\n",
        "    if counts[0] + jokers == 5: return 6\n",
        "    if counts[0] + jokers == 4: return 5\n",
        "    if counts[0] + jokers == 3 and counts[1] == 2: return 4\n",
        "    if counts[0] + jokers == 3 : return 3\n",
        "    if counts[0] == 2 and (counts[1] == 2): return 2\n",
        "    if counts[0] + jokers == 2 : return 1\n",
        "    return 0\n",
        "\n",
        "  def compare(a,b):\n",
        "    type_a = get_type(a[0])\n",
        "    type_b = get_type(b[0])\n",
        "    if type_a > type_b:\n",
        "      return 1\n",
        "    if type_a < type_b:\n",
        "      return -1\n",
        "    for card_a, card_b in zip(a[0], b[0]):\n",
        "      if card_a == card_b: continue\n",
        "      a_wins = (cards.index(card_a) > cards.index(card_b))\n",
        "      return 1 if a_wins else -1\n",
        "\n",
        "  cards = \"J23456789TQKA\"\n",
        "  regex = r'(\\w{5}) (\\d+)'\n",
        "  hands = re.findall(regex, puzzle_input)\n",
        "  hands.sort(key = cmp_to_key(compare))\n",
        "  total = 0\n",
        "  for rank, (_, bid) in enumerate(hands, start = 1):\n",
        "    total += rank * int(bid)\n",
        "  return total\n",
        "\n",
        "print(\"part 1:\", part1(puzzle_input))\n",
        "print(\"part 2:\", part2(puzzle_input))"
      ]
    }
  ]
}