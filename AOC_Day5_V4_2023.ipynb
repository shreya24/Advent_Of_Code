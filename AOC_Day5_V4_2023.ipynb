{
  "nbformat": 4,
  "nbformat_minor": 0,
  "metadata": {
    "colab": {
      "provenance": [],
      "authorship_tag": "ABX9TyMkRPOsd0mzfKp/FxtW9Kzv",
      "include_colab_link": true
    },
    "kernelspec": {
      "name": "python3",
      "display_name": "Python 3"
    },
    "language_info": {
      "name": "python"
    }
  },
  "cells": [
    {
      "cell_type": "markdown",
      "metadata": {
        "id": "view-in-github",
        "colab_type": "text"
      },
      "source": [
        "<a href=\"https://colab.research.google.com/github/shreya24/Advent_Of_Code/blob/main/AOC_Day5_V4_2023.ipynb\" target=\"_parent\"><img src=\"https://colab.research.google.com/assets/colab-badge.svg\" alt=\"Open In Colab\"/></a>"
      ]
    },
    {
      "cell_type": "code",
      "execution_count": null,
      "metadata": {
        "id": "WbXkLT_ECeA1"
      },
      "outputs": [],
      "source": [
        "# day - 5\n",
        "dayFive_data = open('/aoc/aoc_day5.txt')"
      ]
    },
    {
      "cell_type": "code",
      "source": [
        "#day - 5, part - 1\n",
        "seeds, *blocks = dayFive_data.read().split(\"\\n\\n\")\n",
        "seeds = list(map(int, seeds.split(\": \")[1].split()))\n",
        "\n",
        "for block in blocks:\n",
        "  ranges = []\n",
        "  for line in block.splitlines()[1:]:\n",
        "    ranges.append(list(map(int, line.split())))\n",
        "  new = []\n",
        "  for x in seeds:\n",
        "    for a,b,c in ranges:\n",
        "      if b <= x < b+c:\n",
        "        new.append(x-b+a)\n",
        "        break\n",
        "    else:\n",
        "        new.append(x)\n",
        "  seeds = new\n",
        "print(min(new))"
      ],
      "metadata": {
        "colab": {
          "base_uri": "https://localhost:8080/"
        },
        "id": "vdg2oTg0Cx30",
        "outputId": "2cb751ec-956f-4797-d67c-6eec1936588f"
      },
      "execution_count": null,
      "outputs": [
        {
          "output_type": "stream",
          "name": "stdout",
          "text": [
            "175622908\n"
          ]
        }
      ]
    },
    {
      "cell_type": "code",
      "source": [
        "# day - 5\n",
        "dayFive_data = open('/aoc/aoc_day5.txt')"
      ],
      "metadata": {
        "id": "YgvpSX6lS3ef"
      },
      "execution_count": null,
      "outputs": []
    },
    {
      "cell_type": "code",
      "source": [
        "#day - 5, part - 2\n",
        "inputs, *blocks = dayFive_data.read().split(\"\\n\\n\")\n",
        "inputs = list(map(int, inputs.split(\": \")[1].split()))\n",
        "seeds = []\n",
        "\n",
        "for i in range(0, len(inputs), 2):\n",
        "  seeds.append((inputs[i], inputs[i] + inputs[i+1]))\n",
        "\n",
        "for block in blocks:\n",
        "  ranges = []\n",
        "  for line in block.splitlines()[1:]:\n",
        "    ranges.append(list(map(int, line.split())))\n",
        "  new = []\n",
        "  while len(seeds)>0:\n",
        "    s,e = seeds.pop()\n",
        "    for a,b,c in ranges:\n",
        "      os = max(s,b)\n",
        "      oe = min(e, b+c)\n",
        "      if oe>os:\n",
        "        new.append((os-b+a, oe-b+a))\n",
        "        if os>s:\n",
        "          seeds.append((s, os))\n",
        "        if oe<e:\n",
        "          seeds.append((oe, e))\n",
        "        break\n",
        "    else:\n",
        "      new.append((s,e))\n",
        "  seeds = new\n",
        "\n",
        "print(min(new))"
      ],
      "metadata": {
        "colab": {
          "base_uri": "https://localhost:8080/"
        },
        "id": "Lby9gNrpNg1i",
        "outputId": "db389886-f019-4e53-ceaf-ded2e3d68b32"
      },
      "execution_count": null,
      "outputs": [
        {
          "output_type": "stream",
          "name": "stdout",
          "text": [
            "(5200543, 8816546)\n"
          ]
        }
      ]
    },
    {
      "cell_type": "code",
      "source": [
        "#sample data\n",
        "# seeds: 79 14 55 13\n",
        "\n",
        "# seed-to-soil map:\n",
        "# 50 98 2\n",
        "# 52 50 48\n",
        "\n",
        "# soil-to-fertilizer map:\n",
        "# 0 15 37\n",
        "# 37 52 2\n",
        "# 39 0 15\n",
        "\n",
        "# fertilizer-to-water map:\n",
        "# 49 53 8\n",
        "# 0 11 42\n",
        "# 42 0 7\n",
        "# 57 7 4\n",
        "\n",
        "# water-to-light map:\n",
        "# 88 18 7\n",
        "# 18 25 70\n",
        "\n",
        "# light-to-temperature map:\n",
        "# 45 77 23\n",
        "# 81 45 19\n",
        "# 68 64 13\n",
        "\n",
        "# temperature-to-humidity map:\n",
        "# 0 69 1\n",
        "# 1 0 69\n",
        "\n",
        "# humidity-to-location map:\n",
        "# 60 56 37\n",
        "# 56 93 4"
      ],
      "metadata": {
        "id": "q0tBcNJJ6Pml"
      },
      "execution_count": null,
      "outputs": []
    }
  ]
}