{
  "nbformat": 4,
  "nbformat_minor": 0,
  "metadata": {
    "colab": {
      "provenance": [],
      "authorship_tag": "ABX9TyNI/8oUyAaN8YUiUaGGx35x",
      "include_colab_link": true
    },
    "kernelspec": {
      "name": "python3",
      "display_name": "Python 3"
    },
    "language_info": {
      "name": "python"
    }
  },
  "cells": [
    {
      "cell_type": "markdown",
      "metadata": {
        "id": "view-in-github",
        "colab_type": "text"
      },
      "source": [
        "<a href=\"https://colab.research.google.com/github/shreya24/Advent_Of_Code/blob/main/AOC_Day6_2023.ipynb\" target=\"_parent\"><img src=\"https://colab.research.google.com/assets/colab-badge.svg\" alt=\"Open In Colab\"/></a>"
      ]
    },
    {
      "cell_type": "code",
      "execution_count": null,
      "metadata": {
        "id": "vPpLQUbqU_TN"
      },
      "outputs": [],
      "source": [
        "# day - 6\n",
        "daySix_data = open('/aoc/aoc_day6.txt')"
      ]
    },
    {
      "cell_type": "code",
      "source": [
        "#day - 6\n",
        "#part - 1\n",
        "import re\n",
        "import math as m\n",
        "from collections import defaultdict\n",
        "time, distance = daySix_data.read().splitlines()\n",
        "timeList = []\n",
        "distList = []\n",
        "for n in re.finditer(r'\\d+', time):\n",
        "  timeList.append(n.group())\n",
        "for n in re.finditer(r'\\d+', distance):\n",
        "  distList.append(n.group())\n",
        "\n",
        "number_ways_beat_record = defaultdict(int)\n",
        "for race in range(int(len(timeList))):\n",
        "  print(\"race number:\", race + 1, \"time:\", timeList[race], \"distance:\", distList[race])\n",
        "  for hold_button_time in range(int(timeList[race]) + 1):\n",
        "    boat_move_time = int(timeList[race]) - hold_button_time\n",
        "    boat_speed = int(hold_button_time)\n",
        "    if boat_speed * boat_move_time > int(distList[race]):\n",
        "      number_ways_beat_record[race + 1] += 1\n",
        "      print(\"race number:\", race + 1, hold_button_time)\n",
        "\n",
        "print(m.prod(number_ways_beat_record.values()))"
      ],
      "metadata": {
        "id": "1fv9UWvX4OaU"
      },
      "execution_count": null,
      "outputs": []
    },
    {
      "cell_type": "code",
      "source": [
        "# day - 6\n",
        "daySix_data = open('/aoc/aoc_day6.txt')"
      ],
      "metadata": {
        "id": "vcRzi2CYXyRa"
      },
      "execution_count": null,
      "outputs": []
    },
    {
      "cell_type": "code",
      "source": [
        "#day - 6\n",
        "#part - 2\n",
        "import re\n",
        "import math as m\n",
        "from collections import defaultdict\n",
        "time, distance = daySix_data.read().splitlines()\n",
        "timeList = []\n",
        "distList = []\n",
        "\n",
        "for n in re.finditer(r'\\d+', time):\n",
        "  timeList.append(n.group())\n",
        "for n in re.finditer(r'\\d+', distance):\n",
        "  distList.append(n.group())\n",
        "print(timeList)\n",
        "print(distList)\n",
        "\n",
        "\n",
        "timeRace = \"\"\n",
        "maxDistRace = \"\"\n",
        "for t in timeList:\n",
        "  timeRace += t\n",
        "for d in distList:\n",
        "  maxDistRace += d\n",
        "print(timeRace)\n",
        "print(maxDistRace)\n",
        "\n",
        "holdButton_start_beat_record = 0\n",
        "holdButton_end_beat_record = 0\n",
        "for hold_button_time in range(int(timeRace) + 1):\n",
        "    boat_move_time = int(timeRace) - hold_button_time\n",
        "    boat_speed = int(hold_button_time)\n",
        "    if boat_speed * boat_move_time > int(maxDistRace):\n",
        "      holdButton_start_beat_record = hold_button_time\n",
        "      break\n",
        "\n",
        "for hold_button_time in range(int(timeRace), 0, -1):\n",
        "    boat_move_time = int(timeRace) - hold_button_time\n",
        "    boat_speed = int(hold_button_time)\n",
        "    if boat_speed * boat_move_time > int(maxDistRace):\n",
        "      holdButton_end_beat_record = hold_button_time\n",
        "      break\n",
        "\n",
        "print(holdButton_end_beat_record - holdButton_start_beat_record + 1)"
      ],
      "metadata": {
        "id": "3dgaV4-vKJzZ",
        "colab": {
          "base_uri": "https://localhost:8080/"
        },
        "outputId": "d4907f9d-ffdf-4db9-dc77-9c172b834342"
      },
      "execution_count": null,
      "outputs": [
        {
          "output_type": "stream",
          "name": "stdout",
          "text": [
            "['42', '89', '91', '89']\n",
            "['308', '1170', '1291', '1467']\n",
            "42899189\n",
            "308117012911467\n",
            "24655068\n"
          ]
        }
      ]
    },
    {
      "cell_type": "code",
      "source": [
        "# day - 6\n",
        "daySix_data = open('/aoc/aoc_day6.txt')"
      ],
      "metadata": {
        "id": "8-7lGMH2G5lN"
      },
      "execution_count": null,
      "outputs": []
    },
    {
      "cell_type": "code",
      "source": [
        "#day - 6\n",
        "#part - 2\n",
        "#solved using maths\n",
        "import re\n",
        "import math as m\n",
        "from collections import defaultdict\n",
        "time, distance = daySix_data.read().splitlines()\n",
        "timeList = []\n",
        "distList = []\n",
        "\n",
        "for n in re.finditer(r'\\d+', time):\n",
        "  timeList.append(n.group())\n",
        "for n in re.finditer(r'\\d+', distance):\n",
        "  distList.append(n.group())\n",
        "\n",
        "\n",
        "timeRace = \"\"\n",
        "maxDistRace = \"\"\n",
        "for t in timeList:\n",
        "  timeRace += t\n",
        "for d in distList:\n",
        "  maxDistRace += d\n",
        "\n",
        "\n",
        "pressing_time_lower = (int(timeRace) - m.sqrt((int(timeRace) ** 2) - 4 * int(maxDistRace)))/2\n",
        "pressing_time_higher = (int(timeRace) + m.sqrt((int(timeRace) ** 2) - 4 * int(maxDistRace)))/2\n",
        "\n",
        "print(int(pressing_time_higher) - (int(pressing_time_lower + 1)) + 1)\n"
      ],
      "metadata": {
        "colab": {
          "base_uri": "https://localhost:8080/"
        },
        "id": "-7FzhNWAGf90",
        "outputId": "0768c922-4396-4cce-b67a-e7e5dbb056bf"
      },
      "execution_count": null,
      "outputs": [
        {
          "output_type": "stream",
          "name": "stdout",
          "text": [
            "24655068\n"
          ]
        }
      ]
    },
    {
      "cell_type": "code",
      "source": [
        "#sample data\n",
        "# Time:      7  15   30\n",
        "# Distance:  9  40  200"
      ],
      "metadata": {
        "id": "WEi7dEtaYzsF"
      },
      "execution_count": null,
      "outputs": []
    }
  ]
}